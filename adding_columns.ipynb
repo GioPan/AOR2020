{
 "cells": [
  {
   "cell_type": "markdown",
   "metadata": {},
   "source": [
    "# Adding columns\n",
    "\n",
    "In order to implement Dantzig-Wolfe decomposition we need to be able to add columns to an existing LP.\n",
    "Gurobi allows us to do that. Let us see how."
   ]
  },
  {
   "cell_type": "markdown",
   "metadata": {},
   "source": [
    "First we make the necessary import and build the ``Model`` to which we will add variables."
   ]
  },
  {
   "cell_type": "code",
   "execution_count": 27,
   "metadata": {},
   "outputs": [],
   "source": [
    "from gurobipy.gurobipy import Model, GRB, Column\n",
    "m = Model()"
   ]
  },
  {
   "cell_type": "markdown",
   "metadata": {},
   "source": [
    "Initially we do not add decision variables. Rather we start from adding an empty objective function."
   ]
  },
  {
   "cell_type": "code",
   "execution_count": 28,
   "metadata": {},
   "outputs": [],
   "source": [
    "# We simply pass 0 as the objective function\n",
    "m.setObjective(0,GRB.MINIMIZE)"
   ]
  },
  {
   "cell_type": "markdown",
   "metadata": {},
   "source": [
    "In a similar way we will add constraints. In this example we will add two constraints."
   ]
  },
  {
   "cell_type": "code",
   "execution_count": 29,
   "metadata": {},
   "outputs": [],
   "source": [
    "# Remember that the method addConstr returns a Constr object\n",
    "# which represents constraints. Read the documentation \n",
    "# https://www.gurobi.com/documentation/8.1/refman/py_model_addconstr.html\n",
    "# In this way we can assign it to a variable\n",
    "# and use it when needed. Later we will need this constraint object\n",
    "# to add columns. \n",
    "\n",
    "c1 = m.addConstr(0, GRB.GREATER_EQUAL, 10,\"c1\")\n",
    "c2 = m.addConstr(0, GRB.GREATER_EQUAL, 5,\"c3\")\n",
    "\n",
    "# This way of adding constraints is preferable to addinng \n",
    "# them in an expression form, as follows. For some reasons, \n",
    "# the following does not add the desiderd constraints\n",
    "# c1 = m.addConstr(0 >= 10,\"c1\")\n",
    "# c2 = m.addConstr(0 >= 5,\"c2\")"
   ]
  },
  {
   "cell_type": "markdown",
   "metadata": {},
   "source": [
    "We will now add columns to this LP. The first step is to build a Column object as explained in the [documentation](https://www.gurobi.com/documentation/8.1/refman/py_column2.html). The second step is to add a decision variable associated to that column as explained in the documentation."
   ]
  },
  {
   "cell_type": "code",
   "execution_count": 30,
   "metadata": {},
   "outputs": [
    {
     "name": "stdout",
     "output_type": "stream",
     "text": [
      "<gurobi.Model Continuous instance Unnamed: 2 constrs, 1 vars, Parameter changes: LogFile=gurobi.log, CSIdleTimeout=1800>\n"
     ]
    }
   ],
   "source": [
    "# In order to create a column we need to pass a list of coefficients and a list of constraints.\n",
    "# The coefficients represent the coefficients with which the column will appear in the respective constraints.\n",
    "# In this example we will add a column which appears with coefficient 12 in constraint c1 and 5 in constraint c2\n",
    "col1 = Column([1, 1], [c1, c2])\n",
    "\n",
    "# We now associate a continuous decision variable to the new column. Let us call it x1.\n",
    "# The variable will have a coefficient of 19 in the objective function.\n",
    "# The variable will be associated to column col1 and will thus appear with a coefficient of \n",
    "# 12 in constraint c1 and -5 in c2.\n",
    "m.addVar(lb=0.0, ub=GRB.INFINITY, obj=2, vtype=GRB.CONTINUOUS, name=\"x1\", column=col1)\n",
    "\n",
    "# We call the method update in order to tell model that we added new stuff.\n",
    "# This is not necessary if later we solve the problem.\n",
    "m.update()\n",
    "# If we now print the model we should see that it has a decision variable\n",
    "print(m)"
   ]
  },
  {
   "cell_type": "markdown",
   "metadata": {},
   "source": [
    "Let us now add a two new variables, in a similar way."
   ]
  },
  {
   "cell_type": "code",
   "execution_count": 31,
   "metadata": {},
   "outputs": [
    {
     "name": "stdout",
     "output_type": "stream",
     "text": [
      "<gurobi.Model Continuous instance Unnamed: 2 constrs, 3 vars, Parameter changes: LogFile=gurobi.log, CSIdleTimeout=1800>\n"
     ]
    }
   ],
   "source": [
    "col2 = Column([1, -1], [c1, c2])\n",
    "col3 = Column([1, 0], [c1, c2])\n",
    "m.addVar(lb=0.0, ub=GRB.INFINITY, obj=3, vtype=GRB.CONTINUOUS, name=\"x2\", column=col2)\n",
    "m.addVar(lb=0.0, ub=GRB.INFINITY, obj=5, vtype=GRB.CONTINUOUS, name=\"x3\", column=col3)\n",
    "m.update()\n",
    "print(m)"
   ]
  },
  {
   "cell_type": "markdown",
   "metadata": {},
   "source": [
    "Let us now try to solve the problem."
   ]
  },
  {
   "cell_type": "code",
   "execution_count": 38,
   "metadata": {},
   "outputs": [
    {
     "name": "stdout",
     "output_type": "stream",
     "text": [
      "Optimize a model with 2 rows, 3 columns and 5 nonzeros\n",
      "Coefficient statistics:\n",
      "  Matrix range     [1e+00, 1e+00]\n",
      "  Objective range  [2e+00, 5e+00]\n",
      "  Bounds range     [0e+00, 0e+00]\n",
      "  RHS range        [5e+00, 1e+01]\n",
      "\n",
      "Solved in 0 iterations and 0.01 seconds\n",
      "Optimal objective  2.000000000e+01\n",
      "x1 10\n",
      "x2 0\n",
      "x3 0\n",
      "x1 10\n",
      "x2 0\n",
      "x3 0\n"
     ]
    }
   ],
   "source": [
    "# You can print the problem to a human-readable format as follows.\n",
    "# See the documentation here https://www.gurobi.com/documentation/8.1/refman/py_model_write.html \n",
    "# The file ex.lp will be in the project folder.\n",
    "m.write(\"ex.lp\")\n",
    "\n",
    "# We call the method optimize to solve the problem \n",
    "m.optimize()\n",
    "\n",
    "# For each variable we print the name and the optimal value\n",
    "# See here for getting the list of variables https://www.gurobi.com/documentation/8.1/refman/py_model_getvars.html\n",
    "# and here for accessing attributes of the variables https://www.gurobi.com/documentation/8.1/refman/py_var_getattr.html\n",
    "for v in m.getVars():\n",
    "    print('%s %g' % (v.varName, v.x))\n",
    "    \n",
    "# An equivalent way of getting the variables attributes is \n",
    "for v in m.getVars():\n",
    "    print('%s %g' % (v.getAttr(GRB.Attr.VarName), v.getAttr(GRB.Attr.X)))\n"
   ]
  },
  {
   "cell_type": "code",
   "execution_count": null,
   "metadata": {},
   "outputs": [],
   "source": []
  }
 ],
 "metadata": {
  "kernelspec": {
   "display_name": "Python 3",
   "language": "python",
   "name": "python3"
  },
  "language_info": {
   "codemirror_mode": {
    "name": "ipython",
    "version": 3
   },
   "file_extension": ".py",
   "mimetype": "text/x-python",
   "name": "python",
   "nbconvert_exporter": "python",
   "pygments_lexer": "ipython3",
   "version": "3.7.3"
  }
 },
 "nbformat": 4,
 "nbformat_minor": 2
}
