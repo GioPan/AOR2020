{
 "cells": [
  {
   "cell_type": "markdown",
   "metadata": {},
   "source": [
    "# This course\n",
    "We will use the Python programming language for modeling and solving optimization problems. \n",
    "Besides being a great general-purpose programming language, thanks to a few popular libraries (numpy, scipy, matplotlib) it becomes a powerful environment for scientific computing.\n",
    "\n",
    "We expect that many of you will have some experience with Python (e.g., have taken Introduction to numerical analysis or similar); for the rest of you, this section will serve as a quick crash course. Besides this document, you should look at the [official tutorial](https://docs.python.org/3.7/tutorial/index.html) for exploring more than what you see here, and clarifying your doubts.\n"
   ]
  },
  {
   "cell_type": "code",
   "execution_count": null,
   "metadata": {},
   "outputs": [],
   "source": [
    "# Setup\n",
    "\n",
    "cd yourWorkingDirectory  # Move to the directory of your project\n",
    "sudo pip install virtualenv      # This may already be installed\n",
    "virtualenv -p python3 .env       # Create a virtual environment (python3)\n",
    "# Note: you can also use \"virtualenv .env\" to use your default python (please note we support 3.6)\n",
    "source .env/bin/activate         # Activate the virtual environment\n",
    "pip install -r requirements.txt  # Install dependencies\n",
    "# Work on the assignment for a while ...\n",
    "deactivate                       # Exit the virtual environment\n"
   ]
  },
  {
   "cell_type": "markdown",
   "metadata": {},
   "source": [
    "# Python\n",
    "\n",
    "Python is a high-level programming language that allows you to express very powerful ideas in very few, readable, lines of code. "
   ]
  },
  {
   "cell_type": "markdown",
   "metadata": {},
   "source": [
    "## Python versions\n",
    "\n",
    "You will currently find two different versions of Python available, 2.7 and 3.x (3.7 at the time of writing). This is due to the fact that Python 3.0 introduced many changes to the language that are incompatible with previous versions. That is, code written for Python 2.7 may not work under Python 3.5 (and the other way around). For this reason, both versions are currently around. For this course we will use Python 3.7. So, make sure you have this version installed.\n",
    "To check your Python version, go to the command line and type `python --version`. "
   ]
  },
  {
   "cell_type": "markdown",
   "metadata": {},
   "source": [
    "## Basic data types\n",
    "\n",
    "Similar to most programming languages, Python provides a number of basic data types. The most frequently used are integers, floats, booleans, and strings. If you learnt another programming language before such as Matlab or Java, these data types behave in a very similar way. However, unlike other programming languages, in Python you do not need to specify the type."
   ]
  },
  {
   "cell_type": "markdown",
   "metadata": {},
   "source": [
    "### Numbers: Integers and floats work intuitively\n",
    "\n",
    "Here are a few example of operations with numerical types. To investigate further read the [official documentation](https://docs.python.org/3.7/library/stdtypes.html#numeric-types-int-float-complex)."
   ]
  },
  {
   "cell_type": "code",
   "execution_count": 9,
   "metadata": {},
   "outputs": [
    {
     "name": "stdout",
     "output_type": "stream",
     "text": [
      "5\n",
      "<class 'int'>\n",
      "6\n",
      "4\n",
      "10\n",
      "2.5\n",
      "25\n",
      "6\n",
      "12\n",
      "<class 'float'>\n",
      "2.5 3.5 5.0 6.25\n"
     ]
    }
   ],
   "source": [
    "x = 5\n",
    "print(x)\n",
    "# Get the data type\n",
    "print(type(x))\n",
    "# Addition, subtraction, multiplication, division\n",
    "print(x + 1)\n",
    "print(x - 1)   \n",
    "print(x * 2)\n",
    "print(x / 2)\n",
    "# Power\n",
    "print(x ** 2)  \n",
    "# Unary operators\n",
    "# Changes the value stored in x to x+1\n",
    "x += 1\n",
    "print(x)  \n",
    "# Changes the value stored in x to x*2\n",
    "x *= 2\n",
    "print(x)\n",
    "\n",
    "# Floats\n",
    "y = 2.5\n",
    "print(type(y)) \n",
    "print(y, y + 1, y * 2, y ** 2) \n"
   ]
  },
  {
   "cell_type": "markdown",
   "metadata": {},
   "source": [
    "### Booleans\n",
    "\n",
    "Python makes available all of the usual operators for Boolean logic with convenient English words rather than symbols such as &&, ||, etc.). Details [here](https://docs.python.org/3.7/library/stdtypes.html#boolean-operations-and-or-not)."
   ]
  },
  {
   "cell_type": "code",
   "execution_count": 11,
   "metadata": {},
   "outputs": [
    {
     "name": "stdout",
     "output_type": "stream",
     "text": [
      "<class 'bool'>\n",
      "False\n",
      "True\n",
      "False\n",
      "True\n"
     ]
    }
   ],
   "source": [
    "t = True\n",
    "f = False\n",
    "# Check the variable type\n",
    "print(type(t)) \n",
    "print(t and f) \n",
    "print(t or f)  \n",
    "print(not t)   \n",
    "print(t != f)  \n"
   ]
  },
  {
   "cell_type": "markdown",
   "metadata": {},
   "source": [
    "### Strings\n",
    "\n",
    "Python has many useful methods for strings. See much more [here](https://docs.python.org/3.7/library/stdtypes.html#text-sequence-type-str)."
   ]
  },
  {
   "cell_type": "code",
   "execution_count": 15,
   "metadata": {},
   "outputs": [
    {
     "name": "stdout",
     "output_type": "stream",
     "text": [
      "Operations\n",
      "<class 'str'>\n",
      "10\n",
      "Operations Research\n",
      "Applied Operations Research 2020\n",
      "Hello\n",
      "HELLO\n",
      "he(ell)(ell)o\n",
      "world\n"
     ]
    }
   ],
   "source": [
    "# Strings can be defined using single quotes or double quotes\n",
    "o = 'Operations'    \n",
    "r = \"Research\"\n",
    "print(o)       \n",
    "print(type(o))\n",
    "\n",
    "# String length\n",
    "print(len(o))\n",
    "\n",
    "# String concatenation\n",
    "OR = o + ' ' + r \n",
    "print(OR)\n",
    "\n",
    "# String formatting\n",
    "AOR = '%s %s %s %d' % ('Applied',o, r, 2020)  \n",
    "print(AOR)  \n",
    "\n",
    "s = 'hello'\n",
    "# Capitalize a string\n",
    "print(s.capitalize())\n",
    "# Convert to uppercase\n",
    "print(s.upper())\n",
    "# Replace a substring with another substring\n",
    "print(s.replace('l', '(ell)'))  \n",
    "# Stripts leading and trailing whitespaces\n",
    "print('  world '.strip())  \n"
   ]
  },
  {
   "cell_type": "markdown",
   "metadata": {},
   "source": [
    "## Data containers\n",
    "\n",
    "Often we would like to store a collction of data rather than individual variables. Python offers several types of containers according to the specific need. "
   ]
  },
  {
   "cell_type": "markdown",
   "metadata": {},
   "source": [
    "### Lists\n",
    "\n",
    "Lists represent vectors of data. They are typically (but not necessarily) used to store homogeneous data. Unlike in other programming languages, Python lists may be resized. "
   ]
  },
  {
   "cell_type": "code",
   "execution_count": 3,
   "metadata": {},
   "outputs": [
    {
     "name": "stdout",
     "output_type": "stream",
     "text": [
      "[3, 1, 2] 1 3\n",
      "2\n",
      "[3, 1, 'OR']\n",
      "[3, 1, 'OR', 'AOR']\n",
      "AOR [3, 1, 'OR']\n",
      "[0, 1, 2, 3, 4]\n",
      "[2, 3]\n",
      "[2, 3, 4]\n",
      "[0, 1]\n",
      "[0, 1, 2, 3, 4]\n",
      "[0, 1, 2, 3]\n",
      "[0, 1, 8, 9, 4]\n"
     ]
    }
   ],
   "source": [
    "l = [3, 1, 2]    \n",
    "# List elements are accessed by their position (the first element is in position 0)\n",
    "print(l, l[1],l[0])\n",
    "# Negative indices count from the end of the list\n",
    "print(l[-1])     \n",
    "# Lists can contain elements of different types\n",
    "l[2] = 'OR'     \n",
    "print(l)\n",
    "# We can append new elements (i.e., add to the end of the list)\n",
    "l.append('AOR')  \n",
    "print(l)\n",
    "# Remove and return the last element of the list\n",
    "x = l.pop()      \n",
    "print(x, l)\n",
    "\n",
    "# Ranges can be used to create lists (see more https://docs.python.org/3.7/library/stdtypes.html#ranges)\n",
    "# A range of n will consists of the integers from 0 to n-1\n",
    "nums = list(range(10))       \n"
   ]
  },
  {
   "cell_type": "markdown",
   "metadata": {},
   "source": [
    "You can *slice* lists"
   ]
  },
  {
   "cell_type": "code",
   "execution_count": 5,
   "metadata": {},
   "outputs": [
    {
     "name": "stdout",
     "output_type": "stream",
     "text": [
      "[0, 1, 2, 3, 4]\n",
      "[2, 3]\n",
      "[2, 3, 4]\n",
      "[0, 1]\n",
      "[0, 1, 2, 3, 4]\n",
      "[0, 1, 2, 3]\n",
      "[0, 1, 8, 9, 4]\n"
     ]
    }
   ],
   "source": [
    "nums = list(range(5))     \n",
    "print(nums)\n",
    "# Lists can be sliced (i.e., we extract a sublist) in the following way \n",
    "# Get a slice from position 2 to 4\n",
    "print(nums[2:4])          \n",
    "# Get a slice from index 2 to the end\n",
    "print(nums[2:])           \n",
    "# Get a slice from the start to index 2 (exclusive)\n",
    "print(nums[:2])          \n",
    "# Get a slice of the whole list\n",
    "print(nums[:])            \n",
    "# Slice indices can be negative (remember that negative indices count from the end of the list)\n",
    "print(nums[:-1])         \n",
    "# Assign a new sublist to a slice\n",
    "nums[2:4] = [8, 9]        \n",
    "print(nums)   "
   ]
  },
  {
   "cell_type": "markdown",
   "metadata": {},
   "source": [
    "You can loop over lists"
   ]
  },
  {
   "cell_type": "code",
   "execution_count": 4,
   "metadata": {},
   "outputs": [
    {
     "name": "stdout",
     "output_type": "stream",
     "text": [
      "cat\n",
      "dog\n",
      "monkey\n",
      "#0: cat\n",
      "#1: dog\n",
      "#2: monkey\n"
     ]
    }
   ],
   "source": [
    "animals = ['cat', 'dog', 'monkey']\n",
    "for animal in animals:\n",
    "    print(animal)\n",
    "    \n",
    "# If you also want to access the index of the elements\n",
    "for idx, animal in enumerate(animals):\n",
    "    print('#%d: %s' % (idx, animal))"
   ]
  },
  {
   "cell_type": "markdown",
   "metadata": {},
   "source": [
    "When programming, frequently we want to transform one type of data into another. *List comprehension* provides a shorthand for this kind of tasks. As a simple example, the following code provides two equivalent ways (without and with list comprehension) of computing the square of the numbers in an existing list:"
   ]
  },
  {
   "cell_type": "code",
   "execution_count": 7,
   "metadata": {},
   "outputs": [
    {
     "name": "stdout",
     "output_type": "stream",
     "text": [
      "[0, 1, 4, 9, 16]\n",
      "[0, 1, 4, 9, 16]\n",
      "[0, 4, 16]\n"
     ]
    }
   ],
   "source": [
    "nums = [0, 1, 2, 3, 4]\n",
    "squaresA = []\n",
    "\n",
    "# Without list comprehension\n",
    "for x in nums:\n",
    "    squaresA.append(x ** 2)\n",
    "print(squaresA) \n",
    "\n",
    "# With list comprehension\n",
    "squaresB = [x ** 2 for x in nums]\n",
    "print(squaresB)\n",
    "\n",
    "# With conditions (only the square of even numbers)\n",
    "even_squares = [x ** 2 for x in nums if x % 2 == 0]\n",
    "print(even_squares)"
   ]
  },
  {
   "cell_type": "markdown",
   "metadata": {},
   "source": [
    "### Dictionaries\n",
    "\n",
    "A [dictionary](https://docs.python.org/3.7/library/stdtypes.html#mapping-types-dict) stores key-value pairs. You can use it like this:"
   ]
  },
  {
   "cell_type": "code",
   "execution_count": 8,
   "metadata": {},
   "outputs": [
    {
     "name": "stdout",
     "output_type": "stream",
     "text": [
      "10\n",
      "False\n",
      "True\n",
      "40\n",
      "True\n"
     ]
    }
   ],
   "source": [
    "# Create a new dictionary with some data\n",
    "d = {'A': 10, 'B': 20}  \n",
    "# Get an entry from a dictionary\n",
    "print(d['A'])       \n",
    "# Check if a dictionary has a given key\n",
    "print('cat' in d)     \n",
    "print('A' in d)\n",
    "# Set an entry in a dictionary\n",
    "d['C'] = '40'     \n",
    "print(d['C'])\n",
    "# Remove an element from a dictionary\n",
    "del d['A'] \n",
    "\n",
    "# Dictionaries can be created in a few alternative ways\n",
    "a = dict(one=1, two=2, three=3)\n",
    "b = {'one': 1, 'two': 2, 'three': 3}\n",
    "c = dict([('two', 2), ('one', 1), ('three', 3)])\n",
    "d = dict({'three': 3, 'one': 1, 'two': 2})\n",
    "# Check that they are identical\n",
    "print(a == b == c == d)"
   ]
  },
  {
   "cell_type": "code",
   "execution_count": 9,
   "metadata": {},
   "outputs": [
    {
     "name": "stdout",
     "output_type": "stream",
     "text": [
      "A person has 2 legs\n",
      "A cat has 4 legs\n",
      "A spider has 8 legs\n"
     ]
    }
   ],
   "source": [
    "# You can iterate over the keys in a dictionary:\n",
    "d = {'person': 2, 'cat': 4, 'spider': 8}\n",
    "for animal in d:\n",
    "    legs = d[animal]\n",
    "    print('A %s has %d legs' % (animal, legs))"
   ]
  },
  {
   "cell_type": "code",
   "execution_count": 10,
   "metadata": {},
   "outputs": [
    {
     "name": "stdout",
     "output_type": "stream",
     "text": [
      "A person has 2 legs\n",
      "A cat has 4 legs\n",
      "A spider has 8 legs\n"
     ]
    }
   ],
   "source": [
    "# If you want access to keys and their corresponding values, use the items method:\n",
    "d = {'person': 2, 'cat': 4, 'spider': 8}\n",
    "for animal, legs in d.items():\n",
    "    print('A %s has %d legs' % (animal, legs))"
   ]
  },
  {
   "cell_type": "code",
   "execution_count": 11,
   "metadata": {},
   "outputs": [
    {
     "name": "stdout",
     "output_type": "stream",
     "text": [
      "{0: 0, 2: 4, 4: 16}\n"
     ]
    }
   ],
   "source": [
    "# Comprehensions allows you to easily construct dictionaries.\n",
    "# The following code will create a dictionary that stores, for each number, its square, but only for the even numbers.\n",
    "nums = [0, 1, 2, 3, 4]\n",
    "even_num_to_square = {x: x ** 2 for x in nums if x % 2 == 0}\n",
    "print(even_num_to_square) "
   ]
  },
  {
   "cell_type": "markdown",
   "metadata": {},
   "source": [
    "### Sets\n",
    "\n",
    "A set is an unordered collection of distinct elements. "
   ]
  },
  {
   "cell_type": "code",
   "execution_count": 8,
   "metadata": {},
   "outputs": [
    {
     "name": "stdout",
     "output_type": "stream",
     "text": [
      "True\n",
      "False\n",
      "True\n",
      "3\n",
      "3\n",
      "2\n"
     ]
    }
   ],
   "source": [
    "animals = {'cat', 'dog'}\n",
    "\n",
    "# Check if an element is in a set; prints \"True\"\n",
    "print('cat' in animals)   \n",
    "print('fish' in animals)\n",
    "\n",
    "# Add an element to a set\n",
    "animals.add('fish')       \n",
    "print('fish' in animals)  \n",
    "\n",
    "# Number of elements in a set; prints \"3\"\n",
    "print(len(animals))\n",
    "\n",
    "# Adding an element that is already in the set does nothing\n",
    "animals.add('cat')        \n",
    "print(len(animals))      \n",
    "\n",
    "# Remove an element from a set\n",
    "animals.remove('cat')     \n",
    "print(len(animals))       \n"
   ]
  },
  {
   "cell_type": "markdown",
   "metadata": {},
   "source": [
    "Iterating over a set has the same syntax as iterating over a list; however since sets are unordered, you cannot make assumptions about the order in which you visit the elements of the set:"
   ]
  },
  {
   "cell_type": "code",
   "execution_count": 9,
   "metadata": {},
   "outputs": [
    {
     "name": "stdout",
     "output_type": "stream",
     "text": [
      "#1: dog\n",
      "#2: fish\n",
      "#3: cat\n"
     ]
    }
   ],
   "source": [
    "animals = {'cat', 'dog', 'fish'}\n",
    "for idx, animal in enumerate(animals):\n",
    "    print('#%d: %s' % (idx + 1, animal))"
   ]
  },
  {
   "cell_type": "markdown",
   "metadata": {},
   "source": [
    "Like lists and dictionaries, we can easily construct sets using set comprehensions:"
   ]
  },
  {
   "cell_type": "code",
   "execution_count": 10,
   "metadata": {},
   "outputs": [
    {
     "name": "stdout",
     "output_type": "stream",
     "text": [
      "{0, 1, 64, 4, 36, 9, 16, 49, 81, 25}\n"
     ]
    }
   ],
   "source": [
    "# We create a set of square numbers\n",
    "nums = {x*x for x in range(10)}\n",
    "print(nums)  \n",
    "# All the squares from 0^2 to 9^2 are there, but unordered"
   ]
  },
  {
   "cell_type": "markdown",
   "metadata": {},
   "source": [
    "### Tuples\n",
    "\n",
    "A tuple is an ordered list of values. A tuple is in many ways similar to a list; one of the most important differences is that tuples can be used as keys in dictionaries and as elements of sets, while lists cannot. However, tuples are *immutable*: you can't change which variables they contain after construction. Here is a trivial example:"
   ]
  },
  {
   "cell_type": "code",
   "execution_count": 11,
   "metadata": {},
   "outputs": [
    {
     "name": "stdout",
     "output_type": "stream",
     "text": [
      "<class 'tuple'>\n",
      "(5, 6)\n",
      "{(0, 1): 0, (1, 2): 1, (2, 3): 2, (3, 4): 3, (4, 5): 4, (5, 6): 5, (6, 7): 6, (7, 8): 7, (8, 9): 8, (9, 10): 9}\n",
      "5\n",
      "1\n"
     ]
    }
   ],
   "source": [
    "# Creates a tuple\n",
    "t = (5, 6)        \n",
    "print(type(t))    # Prints \"<class 'tuple'>\"\n",
    "print(t)\n",
    "\n",
    "# Create a dictionary with tuple keys\n",
    "# The dict has keys (x,x+1) and value x\n",
    "d = {(x, x + 1): x for x in range(10)} \n",
    "print(d)\n",
    "print(d[t])       \n",
    "print(d[(1, 2)])  "
   ]
  },
  {
   "cell_type": "markdown",
   "metadata": {},
   "source": [
    "## Functions\n",
    "\n",
    "Python functions are defined using the `def` keyword. For example:"
   ]
  },
  {
   "cell_type": "code",
   "execution_count": 12,
   "metadata": {},
   "outputs": [
    {
     "name": "stdout",
     "output_type": "stream",
     "text": [
      "negative\n",
      "zero\n",
      "positive\n"
     ]
    }
   ],
   "source": [
    "def sign(x):\n",
    "    if x > 0:\n",
    "        return 'positive'\n",
    "    elif x < 0:\n",
    "        return 'negative'\n",
    "    else:\n",
    "        return 'zero'\n",
    "\n",
    "for x in [-1, 0, 1]:\n",
    "    print(sign(x))"
   ]
  },
  {
   "cell_type": "markdown",
   "metadata": {},
   "source": [
    "We will often define functions to take optional keyword arguments, like this:"
   ]
  },
  {
   "cell_type": "code",
   "execution_count": 13,
   "metadata": {},
   "outputs": [
    {
     "name": "stdout",
     "output_type": "stream",
     "text": [
      "Hello, Bob\n",
      "HELLO, FRED!\n"
     ]
    }
   ],
   "source": [
    "# Prints hello to the given name, in upper-case if it should be loud\n",
    "# If nothing is passed for the loud argument, it will (arbitrarily) default to false\n",
    "def hello(name, loud=False):\n",
    "    if loud:\n",
    "        print('HELLO, %s!' % name.upper())\n",
    "    else:\n",
    "        print('Hello, %s' % name)\n",
    "\n",
    "hello('Bob') # Prints \"Hello, Bob\"\n",
    "hello('Fred', loud=True)  # Prints \"HELLO, FRED!\"\n"
   ]
  },
  {
   "cell_type": "markdown",
   "metadata": {},
   "source": [
    "## Classes\n",
    "\n",
    "The syntax for defining classes in Python is straightforward. A Python class has typically two ingredients: one or more constructors and (typically many) instance methods."
   ]
  },
  {
   "cell_type": "code",
   "execution_count": 14,
   "metadata": {},
   "outputs": [
    {
     "name": "stdout",
     "output_type": "stream",
     "text": [
      "Hello, Fred\n",
      "HELLO, FRED!\n"
     ]
    }
   ],
   "source": [
    "class Greeter(object):\n",
    "\n",
    "    # Constructor\n",
    "    def __init__(self, name):\n",
    "        # Create an instance variable\n",
    "        self.name = name  \n",
    "\n",
    "    # Instance method\n",
    "    def greet(self, loud=False):\n",
    "        if loud:\n",
    "            print('HELLO, %s!' % self.name.upper())\n",
    "        else:\n",
    "            print('Hello, %s' % self.name)\n",
    "\n",
    "# Construct an instance of the Greeter class\n",
    "g = Greeter('Fred')  \n",
    "# Call an instance method\n",
    "g.greet()          \n",
    "g.greet(loud=True)\n"
   ]
  },
  {
   "cell_type": "markdown",
   "metadata": {},
   "source": [
    "You may want to read more about classes [here](https://docs.python.org/3.7/tutorial/classes.html#a-first-look-at-classes), particularly the difference between [*class variables* and *instance variables*](https://docs.python.org/3.7/tutorial/classes.html#class-and-instance-variables)."
   ]
  }
 ],
 "metadata": {
  "kernelspec": {
   "display_name": "Python 3",
   "language": "python",
   "name": "python3"
  },
  "language_info": {
   "codemirror_mode": {
    "name": "ipython",
    "version": 3
   },
   "file_extension": ".py",
   "mimetype": "text/x-python",
   "name": "python",
   "nbconvert_exporter": "python",
   "pygments_lexer": "ipython3",
   "version": "3.7.3"
  }
 },
 "nbformat": 4,
 "nbformat_minor": 2
}
