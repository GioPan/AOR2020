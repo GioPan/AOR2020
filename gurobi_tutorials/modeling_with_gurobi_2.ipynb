{
 "cells": [
  {
   "cell_type": "markdown",
   "metadata": {},
   "source": [
    "# Modeling with Gurobi -- Large Scale Problems\n",
    "\n",
    "In the first tutorial you have seen the basics of the interaction with Gurobi. We will now look at more realistic interactions such as creating multidimensional and sparse arrays of variables and constraints. Gurobi provides specialized data structures to efficiently handle these situations. Before moving further into this tutorial please go back to the [Python tutorial](../python_tutorial.ipynb) and refresh your mind on *lists*, *dictionaries*, *tuples* and *comprehension*."
   ]
  },
  {
   "cell_type": "markdown",
   "metadata": {},
   "source": [
    "## Adding several decision variables\n",
    "\n",
    "In the first tutorial we have seen that we can add one decision variable to the model using the [method `addVar`](https://www.gurobi.com/documentation/9.0/refman/py_model_addvar.html) of the class `Model`. If we had several variables of the same type we could of course call the `addVar` method several times to create the each individual variable. For example, let $x_i$ for $i=1,\\ldots,N$ be binary variables we wish to add to our model. One possibility is the following"
   ]
  },
  {
   "cell_type": "code",
   "execution_count": 3,
   "metadata": {},
   "outputs": [
    {
     "name": "stdout",
     "output_type": "stream",
     "text": [
      "<gurobi.Model MIP instance our_model: 0 constrs, 100 vars, Parameter changes: LogFile=gurobi.log, CSIdleTimeout=1800>\n"
     ]
    }
   ],
   "source": [
    "from gurobipy import *\n",
    "N = 100\n",
    "m = Model('our_model')\n",
    "for i in range(N):\n",
    "    m.addVar(vtype=GRB.BINARY,name = \"x_\"+str(i))\n",
    "m.update()\n",
    "print(m)"
   ]
  },
  {
   "cell_type": "markdown",
   "metadata": {},
   "source": [
    "This way of adding decision variables is, however, ineffective. In the [details of the class `Model`](https://www.gurobi.com/documentation/9.0/refman/py_model.html) you will notice that the class `Model` has also a [method `addVars`](https://www.gurobi.com/documentation/9.0/refman/py_model_addvars.html) (notice the plural in Var**s**). This method, which permits to add several decision variables to the model, is defined as follows.\n",
    "\n",
    "`addVars ( *indices, lb=0.0, ub=GRB.INFINITY, obj=0.0, vtype=GRB.CONTINUOUS, name=\"\" )`\n",
    "\n",
    "It is very similar to the `addVar` method, but it takes as first argument the indices of the decision variables. The indices can be specified in different ways, as we will shortly see. \n",
    "\n",
    "### Specifying the dimensions of the variables\n",
    "\n",
    "The simplest way of specifying the indexes is to provide one or more integers which indicate each dimension. \n",
    "As an example, we could add the $x_i$ variables introduced above as follows"
   ]
  },
  {
   "cell_type": "code",
   "execution_count": 8,
   "metadata": {},
   "outputs": [
    {
     "name": "stdout",
     "output_type": "stream",
     "text": [
      "<gurobi.Model MIP instance our_model: 0 constrs, 100 vars, Parameter changes: LogFile=gurobi.log, CSIdleTimeout=1800>\n"
     ]
    }
   ],
   "source": [
    "m = Model('our_model')\n",
    "x = m.addVars(100,vtype=GRB.BINARY,name = \"x\")\n",
    "m.update()\n",
    "print(m)"
   ]
  },
  {
   "cell_type": "markdown",
   "metadata": {},
   "source": [
    "If we print $x$ we will see a dictionary which has the indices as keys and the variables as values.\n",
    "In this way we can access each individual variable as with an ordinary dictionary. "
   ]
  },
  {
   "cell_type": "code",
   "execution_count": 9,
   "metadata": {},
   "outputs": [
    {
     "name": "stdout",
     "output_type": "stream",
     "text": [
      "{0: <gurobi.Var x[0]>, 1: <gurobi.Var x[1]>, 2: <gurobi.Var x[2]>, 3: <gurobi.Var x[3]>, 4: <gurobi.Var x[4]>, 5: <gurobi.Var x[5]>, 6: <gurobi.Var x[6]>, 7: <gurobi.Var x[7]>, 8: <gurobi.Var x[8]>, 9: <gurobi.Var x[9]>, 10: <gurobi.Var x[10]>, 11: <gurobi.Var x[11]>, 12: <gurobi.Var x[12]>, 13: <gurobi.Var x[13]>, 14: <gurobi.Var x[14]>, 15: <gurobi.Var x[15]>, 16: <gurobi.Var x[16]>, 17: <gurobi.Var x[17]>, 18: <gurobi.Var x[18]>, 19: <gurobi.Var x[19]>, 20: <gurobi.Var x[20]>, 21: <gurobi.Var x[21]>, 22: <gurobi.Var x[22]>, 23: <gurobi.Var x[23]>, 24: <gurobi.Var x[24]>, 25: <gurobi.Var x[25]>, 26: <gurobi.Var x[26]>, 27: <gurobi.Var x[27]>, 28: <gurobi.Var x[28]>, 29: <gurobi.Var x[29]>, 30: <gurobi.Var x[30]>, 31: <gurobi.Var x[31]>, 32: <gurobi.Var x[32]>, 33: <gurobi.Var x[33]>, 34: <gurobi.Var x[34]>, 35: <gurobi.Var x[35]>, 36: <gurobi.Var x[36]>, 37: <gurobi.Var x[37]>, 38: <gurobi.Var x[38]>, 39: <gurobi.Var x[39]>, 40: <gurobi.Var x[40]>, 41: <gurobi.Var x[41]>, 42: <gurobi.Var x[42]>, 43: <gurobi.Var x[43]>, 44: <gurobi.Var x[44]>, 45: <gurobi.Var x[45]>, 46: <gurobi.Var x[46]>, 47: <gurobi.Var x[47]>, 48: <gurobi.Var x[48]>, 49: <gurobi.Var x[49]>, 50: <gurobi.Var x[50]>, 51: <gurobi.Var x[51]>, 52: <gurobi.Var x[52]>, 53: <gurobi.Var x[53]>, 54: <gurobi.Var x[54]>, 55: <gurobi.Var x[55]>, 56: <gurobi.Var x[56]>, 57: <gurobi.Var x[57]>, 58: <gurobi.Var x[58]>, 59: <gurobi.Var x[59]>, 60: <gurobi.Var x[60]>, 61: <gurobi.Var x[61]>, 62: <gurobi.Var x[62]>, 63: <gurobi.Var x[63]>, 64: <gurobi.Var x[64]>, 65: <gurobi.Var x[65]>, 66: <gurobi.Var x[66]>, 67: <gurobi.Var x[67]>, 68: <gurobi.Var x[68]>, 69: <gurobi.Var x[69]>, 70: <gurobi.Var x[70]>, 71: <gurobi.Var x[71]>, 72: <gurobi.Var x[72]>, 73: <gurobi.Var x[73]>, 74: <gurobi.Var x[74]>, 75: <gurobi.Var x[75]>, 76: <gurobi.Var x[76]>, 77: <gurobi.Var x[77]>, 78: <gurobi.Var x[78]>, 79: <gurobi.Var x[79]>, 80: <gurobi.Var x[80]>, 81: <gurobi.Var x[81]>, 82: <gurobi.Var x[82]>, 83: <gurobi.Var x[83]>, 84: <gurobi.Var x[84]>, 85: <gurobi.Var x[85]>, 86: <gurobi.Var x[86]>, 87: <gurobi.Var x[87]>, 88: <gurobi.Var x[88]>, 89: <gurobi.Var x[89]>, 90: <gurobi.Var x[90]>, 91: <gurobi.Var x[91]>, 92: <gurobi.Var x[92]>, 93: <gurobi.Var x[93]>, 94: <gurobi.Var x[94]>, 95: <gurobi.Var x[95]>, 96: <gurobi.Var x[96]>, 97: <gurobi.Var x[97]>, 98: <gurobi.Var x[98]>, 99: <gurobi.Var x[99]>}\n",
      "<gurobi.Var x[0]>\n",
      "<gurobi.Var x[10]>\n"
     ]
    }
   ],
   "source": [
    "print(x)\n",
    "print(x[0]) # The first decision variable\n",
    "print(x[10]) # The tenth decision variable"
   ]
  },
  {
   "cell_type": "markdown",
   "metadata": {},
   "source": [
    "Of course, in the same way we can create variables with multiple dimensions. For example, let $y_{ijk}$ be a continuous variable, with $i=1,\\ldots,5$, $j=1,\\ldots,3$ and $k=1,\\ldots,2$"
   ]
  },
  {
   "cell_type": "code",
   "execution_count": 13,
   "metadata": {},
   "outputs": [
    {
     "name": "stdout",
     "output_type": "stream",
     "text": [
      "{(0, 0, 0): <gurobi.Var y[0,0,0]>, (0, 0, 1): <gurobi.Var y[0,0,1]>, (0, 1, 0): <gurobi.Var y[0,1,0]>, (0, 1, 1): <gurobi.Var y[0,1,1]>, (0, 2, 0): <gurobi.Var y[0,2,0]>, (0, 2, 1): <gurobi.Var y[0,2,1]>, (1, 0, 0): <gurobi.Var y[1,0,0]>, (1, 0, 1): <gurobi.Var y[1,0,1]>, (1, 1, 0): <gurobi.Var y[1,1,0]>, (1, 1, 1): <gurobi.Var y[1,1,1]>, (1, 2, 0): <gurobi.Var y[1,2,0]>, (1, 2, 1): <gurobi.Var y[1,2,1]>, (2, 0, 0): <gurobi.Var y[2,0,0]>, (2, 0, 1): <gurobi.Var y[2,0,1]>, (2, 1, 0): <gurobi.Var y[2,1,0]>, (2, 1, 1): <gurobi.Var y[2,1,1]>, (2, 2, 0): <gurobi.Var y[2,2,0]>, (2, 2, 1): <gurobi.Var y[2,2,1]>, (3, 0, 0): <gurobi.Var y[3,0,0]>, (3, 0, 1): <gurobi.Var y[3,0,1]>, (3, 1, 0): <gurobi.Var y[3,1,0]>, (3, 1, 1): <gurobi.Var y[3,1,1]>, (3, 2, 0): <gurobi.Var y[3,2,0]>, (3, 2, 1): <gurobi.Var y[3,2,1]>, (4, 0, 0): <gurobi.Var y[4,0,0]>, (4, 0, 1): <gurobi.Var y[4,0,1]>, (4, 1, 0): <gurobi.Var y[4,1,0]>, (4, 1, 1): <gurobi.Var y[4,1,1]>, (4, 2, 0): <gurobi.Var y[4,2,0]>, (4, 2, 1): <gurobi.Var y[4,2,1]>}\n",
      "<gurobi.Var y[0,2,1]>\n"
     ]
    }
   ],
   "source": [
    "y = m.addVars(5,3,2,name = \"y\")\n",
    "m.update()\n",
    "print(y)\n",
    "print(y[0,2,1]) # Print y_1,3,2"
   ]
  },
  {
   "cell_type": "markdown",
   "metadata": {},
   "source": [
    "### Specifying indices as lists\n",
    "\n",
    "Another possibility is that of providing the indices as lists. For example, consider a decision variable $x_{ij}$ which indicates the amount shipped from city $i$ to warehouse $j$. Given the list of cities and warehouses we can add the variables as follows"
   ]
  },
  {
   "cell_type": "code",
   "execution_count": 14,
   "metadata": {},
   "outputs": [
    {
     "name": "stdout",
     "output_type": "stream",
     "text": [
      "<gurobi.Model Continuous instance our_model: 0 constrs, 12 vars, Parameter changes: LogFile=gurobi.log, CSIdleTimeout=1800>\n"
     ]
    }
   ],
   "source": [
    "m = Model('our_model')\n",
    "cities = ['CPH','AAR','ALB','ODE']\n",
    "warehouses = [1,2,3] \n",
    "x = m.addVars(cities,warehouses,name = \"x\")\n",
    "m.update()\n",
    "print(m)"
   ]
  },
  {
   "cell_type": "code",
   "execution_count": 15,
   "metadata": {},
   "outputs": [
    {
     "name": "stdout",
     "output_type": "stream",
     "text": [
      "{('CPH', 1): <gurobi.Var x[CPH,1]>, ('CPH', 2): <gurobi.Var x[CPH,2]>, ('CPH', 3): <gurobi.Var x[CPH,3]>, ('AAR', 1): <gurobi.Var x[AAR,1]>, ('AAR', 2): <gurobi.Var x[AAR,2]>, ('AAR', 3): <gurobi.Var x[AAR,3]>, ('ALB', 1): <gurobi.Var x[ALB,1]>, ('ALB', 2): <gurobi.Var x[ALB,2]>, ('ALB', 3): <gurobi.Var x[ALB,3]>, ('ODE', 1): <gurobi.Var x[ODE,1]>, ('ODE', 2): <gurobi.Var x[ODE,2]>, ('ODE', 3): <gurobi.Var x[ODE,3]>}\n"
     ]
    }
   ],
   "source": [
    "print(x)"
   ]
  },
  {
   "cell_type": "markdown",
   "metadata": {},
   "source": [
    "### Specifying indices as lists of tuples\n",
    "\n",
    "When the variables are specified only for selected tuples of indices, indices can be provided as lists of tuples.\n",
    "For example, assume in the previous example, no shipment can take place between Copenhagen and warehouse number 2, and between Århus and warehouse 1."
   ]
  },
  {
   "cell_type": "code",
   "execution_count": 16,
   "metadata": {},
   "outputs": [
    {
     "name": "stdout",
     "output_type": "stream",
     "text": [
      "<gurobi.Model Continuous instance our_model: 0 constrs, 10 vars, Parameter changes: LogFile=gurobi.log, CSIdleTimeout=1800>\n"
     ]
    }
   ],
   "source": [
    "m = Model('our_model')\n",
    "tuples = [('CPH',1),('CPH',3),('AAR',2),('AAR',3),('ALB',1),('ALB',2),('ALB',3),('ODE',1),('ODE',2),('ODE',3)]\n",
    "warehouses = [1,2,3] \n",
    "x = m.addVars(tuples,name = \"x\")\n",
    "m.update()\n",
    "print(m)"
   ]
  },
  {
   "cell_type": "code",
   "execution_count": 17,
   "metadata": {},
   "outputs": [
    {
     "name": "stdout",
     "output_type": "stream",
     "text": [
      "{('CPH', 1): <gurobi.Var x[CPH,1]>, ('CPH', 3): <gurobi.Var x[CPH,3]>, ('AAR', 2): <gurobi.Var x[AAR,2]>, ('AAR', 3): <gurobi.Var x[AAR,3]>, ('ALB', 1): <gurobi.Var x[ALB,1]>, ('ALB', 2): <gurobi.Var x[ALB,2]>, ('ALB', 3): <gurobi.Var x[ALB,3]>, ('ODE', 1): <gurobi.Var x[ODE,1]>, ('ODE', 2): <gurobi.Var x[ODE,2]>, ('ODE', 3): <gurobi.Var x[ODE,3]>}\n"
     ]
    }
   ],
   "source": [
    "print(x)"
   ]
  },
  {
   "cell_type": "markdown",
   "metadata": {},
   "source": [
    "# An example problem\n",
    "\n",
    "Let us consider the following network flow problem.\n",
    "A set of products $\\mathcal{K}$ are produced at a number of sources and must be sent to warehouses located in other cities to satisfy demand. The flow on each arc of the transportation network must respect arc capacity. The objective is to minimize the sum of the transportation costs. Let $\\mathcal{N}$ be the set of nodes and $\\mathcal{A}$ be set of arcs, $C_{ijk}$ the cost of sending one unit of product $k$ along arc $(i,j)$, $Q_{ij}$ the capacity of arc $(i,j)$ and $D_i$ the demand of  node $i$ (negative for sources and positive for wharehouses). Finally, let $x_{ijk}$ be the amount of product $k$ shipped from $i$ to $j$. The problem can be formulated as follows.\n",
    "The objective function is:\n",
    "$$\\min\\sum_{(i,j)\\in\\mathcal{A}}\\sum_{k\\in\\mathcal{K}}C_{ijk}x_{ijk}$$\n",
    "The constrants on arcs capacity are:\n",
    "$$\\sum_{k\\in\\mathcal{K}}x_{ijk}\\leq Q_{ij}, \\forall (i,j)\\in\\mathcal{A}$$\n",
    "The demand constraints are:\n",
    "$$\\sum_{j\\in \\mathcal{N}}x_{ijk}-\\sum_{j\\in \\mathcal{N}}x_{jik}=D_i, \\forall i\\in\\mathcal{N},k\\in\\mathcal{K}$$\n",
    "$$x_{ijk}\\geq 0, \\forall (i,j)\\in\\mathcal{A},k\\in\\mathcal{K}$$"
   ]
  },
  {
   "cell_type": "markdown",
   "metadata": {},
   "source": [
    "## Gurobi `tuplelist`\n",
    "\n",
    "Very often optimization problems contain multidimensional variables such as $x_{ijm}$, but such that the decision variables do not exist for all possible combinations of $i$, $j$ and $m$. Consider the case in which $x_{ijm}$ represents the amount of item $m$ shipped from factory $i$ to customer $j$. Assume three factories, namely \n",
    "Gurobi provides a s"
   ]
  },
  {
   "cell_type": "markdown",
   "metadata": {},
   "source": [
    "## Gurobi `tupledict`"
   ]
  },
  {
   "cell_type": "markdown",
   "metadata": {},
   "source": [
    "## Adding variables"
   ]
  },
  {
   "cell_type": "markdown",
   "metadata": {},
   "source": [
    "## Adding constraints"
   ]
  },
  {
   "cell_type": "markdown",
   "metadata": {},
   "source": [
    "## A complete example"
   ]
  },
  {
   "cell_type": "code",
   "execution_count": null,
   "metadata": {},
   "outputs": [],
   "source": []
  }
 ],
 "metadata": {
  "kernelspec": {
   "display_name": "Python 3",
   "language": "python",
   "name": "python3"
  },
  "language_info": {
   "codemirror_mode": {
    "name": "ipython",
    "version": 3
   },
   "file_extension": ".py",
   "mimetype": "text/x-python",
   "name": "python",
   "nbconvert_exporter": "python",
   "pygments_lexer": "ipython3",
   "version": "3.7.3"
  }
 },
 "nbformat": 4,
 "nbformat_minor": 2
}
