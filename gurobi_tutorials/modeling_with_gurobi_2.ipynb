{
 "cells": [
  {
   "cell_type": "markdown",
   "metadata": {},
   "source": [
    "# Modeling with Gurobi -- Large Scale Problems\n",
    "\n",
    "In the first tutorial you have seen the basics of the interaction with Gurobi. We will now look at more realistic features such us creating multidimensional and sparse arrays of variables and constraints. Gurobi provides specialized data structures to efficiently handle these situations. Before moving further into this tutorial please go back to the [Python tutorial](../python_tutorial.ipynb) and refresh your mind on *lists*, *dictionaries*, *tuples* and *comprehension*."
   ]
  },
  {
   "cell_type": "markdown",
   "metadata": {},
   "source": [
    "# An example problem\n",
    "\n",
    "Let us consider the following network flow problem.\n",
    "A set of products $\\mathcal{K}$ are produced at a number of sources and must be sent to warehouses located in other cities to satisfy demand. The flow on each arc of the transportation network must respect arc capacity. The objective is to minimize the sum of the transportation costs. Let $\\mathcal{N}$ be the set of nodes and $\\mathcal{A}$ be set of arcs, $C_{ijk}$ the cost of sending one unit of product $k$ along arc $(i,j)$, $Q_{ij}$ the capacity of arc $(i,j)$ and $D_i$ the demand of  node $i$ (negative for sources and positive for wharehouses). Finally, let $x_{ijk}$ be the amount of product $k$ shipped from $i$ to $j$. The problem can be formulated as follows.\n",
    "The objective function is:\n",
    "$$\\min\\sum_{(i,j)\\in\\mathcal{A}}\\sum_{k\\in\\mathcal{K}}C_{ijk}x_{ijk}$$\n",
    "The constrants on arcs capacity are:\n",
    "$$\\sum_{k\\in\\mathcal{K}}x_{ijk}\\leq Q_{ij}, \\forall (i,j)\\in\\mathcal{A}$$\n",
    "The demand constraints are:\n",
    "$$\\sum_{j\\in \\mathcal{N}}x_{ijk}-\\sum_{j\\in \\mathcal{N}}x_{jik}=D_i, \\forall i\\in\\mathcal{N},k\\in\\mathcal{K}$$\n",
    "$$x_{ijk}\\geq 0, \\forall (i,j)\\in\\mathcal{A},k\\in\\mathcal{K}$$"
   ]
  },
  {
   "cell_type": "markdown",
   "metadata": {},
   "source": [
    "## Gurobi `tuplelist`\n",
    "\n",
    "Very often optimization problems contain multidimensional variables such as $x_{ijm}$, but such that the decision variables do not exist for all possible combinations of $i$, $j$ and $m$. Consider the case in which $x_{ijm}$ represents the amount of item $m$ shipped from factory $i$ to customer $j$. Assume three factories, namely \n",
    "Gurobi provides a s"
   ]
  },
  {
   "cell_type": "markdown",
   "metadata": {},
   "source": [
    "## Gurobi `tupledict`"
   ]
  },
  {
   "cell_type": "markdown",
   "metadata": {},
   "source": [
    "## Adding variables"
   ]
  },
  {
   "cell_type": "markdown",
   "metadata": {},
   "source": [
    "## Adding constraints"
   ]
  },
  {
   "cell_type": "markdown",
   "metadata": {},
   "source": [
    "## A complete example"
   ]
  },
  {
   "cell_type": "code",
   "execution_count": null,
   "metadata": {},
   "outputs": [],
   "source": []
  }
 ],
 "metadata": {
  "kernelspec": {
   "display_name": "Python 3",
   "language": "python",
   "name": "python3"
  },
  "language_info": {
   "codemirror_mode": {
    "name": "ipython",
    "version": 3
   },
   "file_extension": ".py",
   "mimetype": "text/x-python",
   "name": "python",
   "nbconvert_exporter": "python",
   "pygments_lexer": "ipython3",
   "version": "3.7.3"
  }
 },
 "nbformat": 4,
 "nbformat_minor": 2
}
