{
 "cells": [
  {
   "cell_type": "markdown",
   "metadata": {},
   "source": [
    "# Getting solution information\n",
    "\n",
    "In this tutorial we will see how to extract information from an optimization model, such as solution information. Gurobi has organized this information in so called *attributes*. Each component of an optimization model, i.e., the [Model object](https://www.gurobi.com/documentation/9.0/refman/py_model.html), the [variables objects](https://www.gurobi.com/documentation/9.0/refman/py_var.html) and the [constraints objects](https://www.gurobi.com/documentation/9.0/refman/py_constr.html) are provided with a method called `getAttr` which can be used to query their specific attributes, corresponding to solution and model information. A central exercise is thus that of understanding which attributes can be queried from each object. The full list of attributes for each object is provided in the Gurobi documentation [here](https://www.gurobi.com/documentation/9.0/refman/attributes.html#sec:Attributes). This page should be kept at hand when working with optimization models."
   ]
  },
  {
   "cell_type": "markdown",
   "metadata": {},
   "source": [
    "## An example model\n",
    "\n",
    "In this tutorial we will consider the classical diet problem. The miminum cost diet is to be found in order to satisfy the daily requirement $R_n$ of a set $\\mathcal{N}$ of nutrients such as proteins and vitamins. A set $\\mathcal{F}$ of foods are considered. Each food has a cost of $C_f$ per unit (e.g., per gram) and provides an amount $A_{fn}$ of nutrient $n$. Let $x_f$ be the quantity of food $f$ included in the daily diet. The problem can be formulated as follows\n",
    "$$\\min \\sum_{f\\in\\mathcal{F}}C_{f}x_{f}$$\n",
    "$$\\sum_{f\\in\\mathcal{F}}A_{fn}x_{f} = R_n \\qquad \\forall n \\in\\mathcal{N}$$\n",
    "$$x_{f}\\geq 0 \\qquad \\forall f\\in\\mathcal{F}$$\n"
   ]
  },
  {
   "cell_type": "code",
   "execution_count": 9,
   "metadata": {},
   "outputs": [
    {
     "name": "stdout",
     "output_type": "stream",
     "text": [
      "Optimize a model with 3 rows, 5 columns and 14 nonzeros\n",
      "Coefficient statistics:\n",
      "  Matrix range     [2e-01, 1e+01]\n",
      "  Objective range  [3e+00, 2e+01]\n",
      "  Bounds range     [0e+00, 0e+00]\n",
      "  RHS range        [1e+01, 7e+01]\n",
      "Presolve removed 0 rows and 1 columns\n",
      "Presolve time: 0.01s\n",
      "Presolved: 3 rows, 4 columns, 11 nonzeros\n",
      "\n",
      "Iteration    Objective       Primal Inf.    Dual Inf.      Time\n",
      "       0    0.0000000e+00   2.825000e+01   0.000000e+00      0s\n",
      "       3    1.3131148e+02   0.000000e+00   0.000000e+00      0s\n",
      "\n",
      "Solved in 3 iterations and 0.02 seconds\n",
      "Optimal objective  1.313114754e+02\n",
      "Objective value: 131.311\n",
      "x[apples] 0\n",
      "x[bananas] 0\n",
      "x[carrots] 20\n",
      "x[dates] 0\n",
      "x[eggs] 4.7541\n"
     ]
    }
   ],
   "source": [
    "from gurobipy import *\n",
    "# Data\n",
    "foods = ['apples', 'bananas', 'carrots', 'dates','eggs']\n",
    "nutrients = ['proteins','vitamin_c','iron']\n",
    "cost = {'apples':8, 'bananas':10, 'carrots':3, 'dates':20,'eggs':15}\n",
    "composition = {('apples','proteins'):0.4, \n",
    "               ('apples','vitamin_c'):6, \n",
    "               ('apples','iron'):0.4, \n",
    "               ('bananas','proteins'):1.2, \n",
    "               ('bananas','vitamin_c'):10, \n",
    "               ('bananas','iron'):0.6,\n",
    "               ('carrots','proteins'):0.6, \n",
    "               ('carrots','vitamin_c'):3, \n",
    "               ('carrots','iron'):0.4,\n",
    "               ('dates','proteins'):0.6, \n",
    "               ('dates','vitamin_c'):1, \n",
    "               ('dates','iron'):0.2,\n",
    "               ('eggs','proteins'):12.2, \n",
    "               ('eggs','vitamin_c'):0, \n",
    "               ('eggs','iron'):2.6\n",
    "              }\n",
    "requirements = {'proteins':70,'vitamin_c':60,'iron':12}\n",
    "# Model\n",
    "m = Model('diet_problem')\n",
    "x = m.addVars(foods,name = 'x')\n",
    "expr = x.prod(cost)\n",
    "m.setObjective(expr,GRB.MINIMIZE)\n",
    "m.addConstrs((quicksum([composition[f,n] * x[f] for f in foods]) >= requirements[n] for n in nutrients), 'nutri')\n",
    "m.optimize()\n",
    "m.write(\"diet.lp\")\n",
    "print('Objective value: %g' % m.objVal)\n",
    "for f in foods:\n",
    "    print('%s %g' % (x[f].varName, x[f].x))"
   ]
  },
  {
   "cell_type": "markdown",
   "metadata": {},
   "source": [
    "## Attributes of the Model\n",
    "\n",
    "Let us start by having a look at some of the most important attributes of the `Model` object.\n",
    "First of all, in the documentation you can see that the `Model` object has a [method `getAttr`](https://www.gurobi.com/documentation/9.0/refman/py_model_getattr.html). This method can be used to query information about the model as well as information about sets of decision variables and constraints. Let us see some examples."
   ]
  },
  {
   "cell_type": "code",
   "execution_count": null,
   "metadata": {},
   "outputs": [],
   "source": []
  }
 ],
 "metadata": {
  "kernelspec": {
   "display_name": "Python 3",
   "language": "python",
   "name": "python3"
  },
  "language_info": {
   "codemirror_mode": {
    "name": "ipython",
    "version": 3
   },
   "file_extension": ".py",
   "mimetype": "text/x-python",
   "name": "python",
   "nbconvert_exporter": "python",
   "pygments_lexer": "ipython3",
   "version": "3.7.3"
  }
 },
 "nbformat": 4,
 "nbformat_minor": 2
}
